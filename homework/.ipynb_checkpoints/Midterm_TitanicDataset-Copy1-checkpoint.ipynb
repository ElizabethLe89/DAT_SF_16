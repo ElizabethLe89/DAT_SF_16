{
 "cells": [
  {
   "cell_type": "markdown",
   "metadata": {},
   "source": [
    "##Midterm"
   ]
  },
  {
   "cell_type": "code",
   "execution_count": 652,
   "metadata": {
    "collapsed": false
   },
   "outputs": [],
   "source": [
    "import pandas as pd\n",
    "import numpy as np\n",
    "import csv as csv\n",
    "import scipy\n",
    "from sklearn.ensemble import RandomForestClassifier\n",
    "from patsy import dmatrices\n",
    "import sklearn.cross_validation as cv\n",
    "import matplotlib.pyplot as plt \n",
    "%matplotlib inline\n",
    "import statsmodels.api as sm\n",
    "from sklearn.linear_model import LogisticRegression\n",
    "from sklearn.cross_validation import StratifiedKFold, train_test_split\n",
    "\n",
    "# loading input files, test.csv is the same as train.csv without the Survived column\n",
    "train_data = \"train.csv\"\n",
    "test_data = \"test.csv\"\n",
    "train_data = pd.read_csv(train_path)\n",
    "test_data = pd.read_csv(test_path)"
   ]
  },
  {
   "cell_type": "code",
   "execution_count": 653,
   "metadata": {
    "collapsed": false,
    "scrolled": true
   },
   "outputs": [
    {
     "name": "stdout",
     "output_type": "stream",
     "text": [
      "<class 'pandas.core.frame.DataFrame'>\n",
      "Int64Index: 891 entries, 0 to 890\n",
      "Data columns (total 12 columns):\n",
      "PassengerId    891 non-null int64\n",
      "Survived       891 non-null int64\n",
      "Pclass         891 non-null int64\n",
      "Name           891 non-null object\n",
      "Sex            891 non-null object\n",
      "Age            714 non-null float64\n",
      "SibSp          891 non-null int64\n",
      "Parch          891 non-null int64\n",
      "Ticket         891 non-null object\n",
      "Fare           891 non-null float64\n",
      "Cabin          204 non-null object\n",
      "Embarked       889 non-null object\n",
      "dtypes: float64(2), int64(5), object(5)\n",
      "memory usage: 90.5+ KB\n"
     ]
    }
   ],
   "source": [
    "train_data.info()"
   ]
  },
  {
   "cell_type": "code",
   "execution_count": 654,
   "metadata": {
    "collapsed": true
   },
   "outputs": [],
   "source": [
    "# clean the data for genders\n",
    "train_data['Gender'] = train_data['Sex'].map( {'female': 0, 'male': 1} ).astype(int)\n",
    "test_data['Gender'] = test_data['Sex'].map( {'female': 0, 'male': 1} ).astype(int)"
   ]
  },
  {
   "cell_type": "code",
   "execution_count": 655,
   "metadata": {
    "collapsed": false
   },
   "outputs": [],
   "source": [
    "# fill data for missing Age values using median of gender/class group in both test/train data\n",
    "median_ages = np.zeros(3)\n",
    "for i in range(1,4):\n",
    "    median_ages[i-1] = train_data[train_data[\"Pclass\"] == i][\"Age\"].dropna().median()\n",
    "\n",
    "for i in range(1,4):\n",
    "    train_data.loc[(train_data[\"Age\"].isnull()) & (train_data[\"Pclass\"] == i), \"Age\"] = median_ages[i-1]\n",
    "    test_data.loc[(test_data[\"Age\"].isnull()) & (test_data[\"Pclass\"] == i), \"Age\"] = median_ages[i-1]"
   ]
  },
  {
   "cell_type": "code",
   "execution_count": 656,
   "metadata": {
    "collapsed": true
   },
   "outputs": [],
   "source": [
    "# transform the age variable into a discrete variable, binned in increments of 10\n",
    "train_data['Age_discrete'] = train_data['Age'].apply(lambda x: int(x - (x % 10)))"
   ]
  },
  {
   "cell_type": "code",
   "execution_count": 657,
   "metadata": {
    "collapsed": true
   },
   "outputs": [],
   "source": [
    "# transform the fare variable into a discrete variable, binned in increments of 25\n",
    "train_data['Fare_discrete'] = train_data['Fare'].apply(lambda x: int(x - (x % 25)))"
   ]
  },
  {
   "cell_type": "code",
   "execution_count": 658,
   "metadata": {
    "collapsed": false
   },
   "outputs": [],
   "source": [
    "# drop all string variables\n",
    "train_data = train_data.drop(['Name', 'Sex', 'Ticket', 'Cabin', 'Embarked', 'Age', 'Fare'], axis=1)"
   ]
  },
  {
   "cell_type": "code",
   "execution_count": 659,
   "metadata": {
    "collapsed": false
   },
   "outputs": [
    {
     "name": "stdout",
     "output_type": "stream",
     "text": [
      "<class 'pandas.core.frame.DataFrame'>\n",
      "Int64Index: 891 entries, 0 to 890\n",
      "Data columns (total 8 columns):\n",
      "PassengerId      891 non-null int64\n",
      "Survived         891 non-null int64\n",
      "Pclass           891 non-null int64\n",
      "SibSp            891 non-null int64\n",
      "Parch            891 non-null int64\n",
      "Gender           891 non-null int64\n",
      "Age_discrete     891 non-null int64\n",
      "Fare_discrete    891 non-null int64\n",
      "dtypes: int64(8)\n",
      "memory usage: 62.6 KB\n"
     ]
    }
   ],
   "source": [
    "#new train_data with removed variables and missing values filled in for age\n",
    "train_data.info()"
   ]
  },
  {
   "cell_type": "code",
   "execution_count": 660,
   "metadata": {
    "collapsed": false
   },
   "outputs": [
    {
     "name": "stdout",
     "output_type": "stream",
     "text": [
      "<class 'pandas.core.frame.DataFrame'>\n",
      "Int64Index: 418 entries, 0 to 417\n",
      "Data columns (total 12 columns):\n",
      "PassengerId    418 non-null int64\n",
      "Pclass         418 non-null int64\n",
      "Name           418 non-null object\n",
      "Sex            418 non-null object\n",
      "Age            418 non-null float64\n",
      "SibSp          418 non-null int64\n",
      "Parch          418 non-null int64\n",
      "Ticket         418 non-null object\n",
      "Fare           417 non-null float64\n",
      "Cabin          91 non-null object\n",
      "Embarked       418 non-null object\n",
      "Gender         418 non-null int64\n",
      "dtypes: float64(2), int64(5), object(5)\n",
      "memory usage: 42.5+ KB\n"
     ]
    }
   ],
   "source": [
    "#repeat for test_data for removing string variable\n",
    "test_data.info()"
   ]
  },
  {
   "cell_type": "code",
   "execution_count": 661,
   "metadata": {
    "collapsed": false
   },
   "outputs": [],
   "source": [
    "#replace NaN values in fare using the median \n",
    "#(missing age values have been replaced in code above) \n",
    "if len(test_data.Fare[ test_data.Fare.isnull() ]) > 0:\n",
    "    median_fares = np.zeros(3)\n",
    "for fare in range(0,3): # loop 0 to 2\n",
    "    median_fares[fare] = test_data[ test_data.Pclass == fare+1 ]['Fare'].dropna().median()\n",
    "for fare in range(0,3): # loop 0 to 2\n",
    "    test_data.loc[ (test_data.Fare.isnull()) & (test_data.Pclass == fare+1 ), 'Fare'] = median_fares[fare]"
   ]
  },
  {
   "cell_type": "code",
   "execution_count": 662,
   "metadata": {
    "collapsed": true
   },
   "outputs": [],
   "source": [
    "# transform the age variable into a discrete variable, binned in increments of 10\n",
    "test_data['Age_discrete'] = test_data['Age'].apply(lambda x: int(x - (x % 10)))"
   ]
  },
  {
   "cell_type": "code",
   "execution_count": 663,
   "metadata": {
    "collapsed": false
   },
   "outputs": [],
   "source": [
    "# transform the fare variable into a discrete variable, binned in increments of 25\n",
    "test_data['Fare_discrete'] = test_data['Fare'].apply(lambda x: int(x - (x % 25)))"
   ]
  },
  {
   "cell_type": "code",
   "execution_count": 664,
   "metadata": {
    "collapsed": false
   },
   "outputs": [],
   "source": [
    "# drop all string variables\n",
    "test_data = test_data.drop(['Name', 'Sex', 'Ticket', 'Cabin', 'Embarked', 'Age', 'Fare'], axis=1)"
   ]
  },
  {
   "cell_type": "code",
   "execution_count": 665,
   "metadata": {
    "collapsed": false,
    "scrolled": true
   },
   "outputs": [
    {
     "name": "stdout",
     "output_type": "stream",
     "text": [
      "<class 'pandas.core.frame.DataFrame'>\n",
      "Int64Index: 418 entries, 0 to 417\n",
      "Data columns (total 7 columns):\n",
      "PassengerId      418 non-null int64\n",
      "Pclass           418 non-null int64\n",
      "SibSp            418 non-null int64\n",
      "Parch            418 non-null int64\n",
      "Gender           418 non-null int64\n",
      "Age_discrete     418 non-null int64\n",
      "Fare_discrete    418 non-null int64\n",
      "dtypes: int64(7)\n",
      "memory usage: 26.1 KB\n"
     ]
    }
   ],
   "source": [
    "#new test_data with removed variables and missing values filled for age and fare\n",
    "test_data.info()"
   ]
  },
  {
   "cell_type": "code",
   "execution_count": 666,
   "metadata": {
    "collapsed": false
   },
   "outputs": [],
   "source": [
    "train_data_np = train_data.astype(np.int32).values\n",
    "X= train_data_np[:,:-1]\n",
    "y=train_data_np[:,-1]"
   ]
  },
  {
   "cell_type": "code",
   "execution_count": 667,
   "metadata": {
    "collapsed": false
   },
   "outputs": [],
   "source": [
    "#We split X and y into train and test datasets\n",
    "(X_train_data, X_test_data, y_train_data, y_test_data) = cv.train_test_split(X, y, test_size=.05)"
   ]
  },
  {
   "cell_type": "code",
   "execution_count": 668,
   "metadata": {
    "collapsed": false
   },
   "outputs": [],
   "source": [
    "#We instanciate the classifier\n",
    "logreg = LogisticRegression()"
   ]
  },
  {
   "cell_type": "code",
   "execution_count": 669,
   "metadata": {
    "collapsed": true
   },
   "outputs": [],
   "source": [
    "#Train model and we get predicted values on the test set\n",
    "logreg.fit(X_train_data, y_train_data)\n",
    "y_predicted = logreg.predict(X_test_data)"
   ]
  },
  {
   "cell_type": "code",
   "execution_count": 670,
   "metadata": {
    "collapsed": false,
    "scrolled": false
   },
   "outputs": [
    {
     "data": {
      "text/plain": [
       "<matplotlib.text.Text at 0x10c723a50>"
      ]
     },
     "execution_count": 670,
     "metadata": {},
     "output_type": "execute_result"
    },
    {
     "data": {
      "image/png": "[encoded data removed]",
      "text/plain": [
       "<matplotlib.figure.Figure at 0x110f087d0>"
      ]
     },
     "metadata": {},
     "output_type": "display_data"
    }
   ],
   "source": [
    "#outcomes\n",
    "plt.imshow(np.vstack((y_test_data, y_predicted)), \n",
    "interpolation='none', cmap='bone')\n",
    "plt.yticks([]);\n",
    "plt.title((\"Actual and predicted survival\" \"outcomes on the test set\"))"
   ]
  },
  {
   "cell_type": "code",
   "execution_count": 671,
   "metadata": {
    "collapsed": false
   },
   "outputs": [
    {
     "data": {
      "text/plain": [
       "array([ 0.72575251,  0.76174497,  0.74829932])"
      ]
     },
     "execution_count": 671,
     "metadata": {},
     "output_type": "execute_result"
    }
   ],
   "source": [
    "cv.cross_val_score(logreg, X, y)"
   ]
  },
  {
   "cell_type": "code",
   "execution_count": 672,
   "metadata": {
    "collapsed": false
   },
   "outputs": [
    {
     "data": {
      "text/html": [
       "<table class=\"simpletable\">\n",
       "<caption>Logit Regression Results</caption>\n",
       "<tr>\n",
       "  <th>Dep. Variable:</th>     <td>Survived</td>     <th>  No. Observations:  </th>  <td>   891</td>  \n",
       "</tr>\n",
       "<tr>\n",
       "  <th>Model:</th>               <td>Logit</td>      <th>  Df Residuals:      </th>  <td>   884</td>  \n",
       "</tr>\n",
       "<tr>\n",
       "  <th>Method:</th>               <td>MLE</td>       <th>  Df Model:          </th>  <td>     6</td>  \n",
       "</tr>\n",
       "<tr>\n",
       "  <th>Date:</th>          <td>Fri, 11 Sep 2015</td> <th>  Pseudo R-squ.:     </th>  <td>0.3371</td>  \n",
       "</tr>\n",
       "<tr>\n",
       "  <th>Time:</th>              <td>03:30:54</td>     <th>  Log-Likelihood:    </th> <td> -393.32</td> \n",
       "</tr>\n",
       "<tr>\n",
       "  <th>converged:</th>           <td>True</td>       <th>  LL-Null:           </th> <td> -593.33</td> \n",
       "</tr>\n",
       "<tr>\n",
       "  <th> </th>                      <td> </td>        <th>  LLR p-value:       </th> <td>2.778e-83</td>\n",
       "</tr>\n",
       "</table>\n",
       "<table class=\"simpletable\">\n",
       "<tr>\n",
       "         <td></td>           <th>coef</th>     <th>std err</th>      <th>z</th>      <th>P>|z|</th> <th>[95.0% Conf. Int.]</th> \n",
       "</tr>\n",
       "<tr>\n",
       "  <th>Intercept</th>      <td>    4.2874</td> <td>    0.427</td> <td>   10.043</td> <td> 0.000</td> <td>    3.451     5.124</td>\n",
       "</tr>\n",
       "<tr>\n",
       "  <th>C(Pclass)[T.2]</th> <td>   -1.2844</td> <td>    0.267</td> <td>   -4.808</td> <td> 0.000</td> <td>   -1.808    -0.761</td>\n",
       "</tr>\n",
       "<tr>\n",
       "  <th>C(Pclass)[T.3]</th> <td>   -2.5256</td> <td>    0.257</td> <td>   -9.812</td> <td> 0.000</td> <td>   -3.030    -2.021</td>\n",
       "</tr>\n",
       "<tr>\n",
       "  <th>C(Sex)[T.male]</th> <td>   -2.7670</td> <td>    0.199</td> <td>  -13.875</td> <td> 0.000</td> <td>   -3.158    -2.376</td>\n",
       "</tr>\n",
       "<tr>\n",
       "  <th>Age</th>            <td>   -0.0442</td> <td>    0.008</td> <td>   -5.408</td> <td> 0.000</td> <td>   -0.060    -0.028</td>\n",
       "</tr>\n",
       "<tr>\n",
       "  <th>SibSp</th>          <td>   -0.3495</td> <td>    0.109</td> <td>   -3.203</td> <td> 0.001</td> <td>   -0.563    -0.136</td>\n",
       "</tr>\n",
       "<tr>\n",
       "  <th>Parch</th>          <td>   -0.0746</td> <td>    0.116</td> <td>   -0.645</td> <td> 0.519</td> <td>   -0.301     0.152</td>\n",
       "</tr>\n",
       "</table>"
      ],
      "text/plain": [
       "<class 'statsmodels.iolib.summary.Summary'>\n",
       "\"\"\"\n",
       "                           Logit Regression Results                           \n",
       "==============================================================================\n",
       "Dep. Variable:               Survived   No. Observations:                  891\n",
       "Model:                          Logit   Df Residuals:                      884\n",
       "Method:                           MLE   Df Model:                            6\n",
       "Date:                Fri, 11 Sep 2015   Pseudo R-squ.:                  0.3371\n",
       "Time:                        03:30:54   Log-Likelihood:                -393.32\n",
       "converged:                       True   LL-Null:                       -593.33\n",
       "                                        LLR p-value:                 2.778e-83\n",
       "==================================================================================\n",
       "                     coef    std err          z      P>|z|      [95.0% Conf. Int.]\n",
       "----------------------------------------------------------------------------------\n",
       "Intercept          4.2874      0.427     10.043      0.000         3.451     5.124\n",
       "C(Pclass)[T.2]    -1.2844      0.267     -4.808      0.000        -1.808    -0.761\n",
       "C(Pclass)[T.3]    -2.5256      0.257     -9.812      0.000        -3.030    -2.021\n",
       "C(Sex)[T.male]    -2.7670      0.199    -13.875      0.000        -3.158    -2.376\n",
       "Age               -0.0442      0.008     -5.408      0.000        -0.060    -0.028\n",
       "SibSp             -0.3495      0.109     -3.203      0.001        -0.563    -0.136\n",
       "Parch             -0.0746      0.116     -0.645      0.519        -0.301     0.152\n",
       "==================================================================================\n",
       "\"\"\""
      ]
     },
     "execution_count": 672,
     "metadata": {},
     "output_type": "execute_result"
    }
   ],
   "source": [
    "res.summary()"
   ]
  },
  {
   "cell_type": "code",
   "execution_count": 673,
   "metadata": {
    "collapsed": false
   },
   "outputs": [],
   "source": [
    "output = res.predict(test_data_x)\n",
    "output = np.asanyarray(output).ravel()\n",
    "output = np.round(output)"
   ]
  },
  {
   "cell_type": "code",
   "execution_count": 674,
   "metadata": {
    "collapsed": false
   },
   "outputs": [],
   "source": [
    "output_file = open(\"Logit.csv\", \"wb\")\n",
    "output_file_object = csv.writer(output_file)\n",
    "output_file_object.writerow([\"PassengerId\", \"Survived\"])\n",
    "output_file_object.writerows(zip(test_data[\"PassengerId\"], output))\n",
    "output_file.close()"
   ]
  },
  {
   "cell_type": "code",
   "execution_count": 675,
   "metadata": {
    "collapsed": true
   },
   "outputs": [],
   "source": [
    "# IMPLEMENTING K-FOLD CLASSIFICATION"
   ]
  },
  {
   "cell_type": "code",
   "execution_count": 676,
   "metadata": {
    "collapsed": true
   },
   "outputs": [],
   "source": [
    "# separating predictor columns from response columns\n",
    "x_train_data = train_data[train_data.columns.values[1:]].as_matrix()\n",
    "response_train_data= train_data.Survived.as_matrix()"
   ]
  },
  {
   "cell_type": "code",
   "execution_count": 677,
   "metadata": {
    "collapsed": false
   },
   "outputs": [],
   "source": [
    "# use sklearn to create indices on which to split for each fold\n",
    "tenFold = StratifiedKFold(response_train_data, n_folds=10)\n",
    "cCorrect = 0\n",
    "cTotal = 0"
   ]
  },
  {
   "cell_type": "code",
   "execution_count": 678,
   "metadata": {
    "collapsed": false
   },
   "outputs": [
    {
     "name": "stdout",
     "output_type": "stream",
     "text": [
      "10-fold accuracy: 1.000000\n",
      "\n",
      "\n"
     ]
    }
   ],
   "source": [
    "# iterate through each set of indices\n",
    "for i, (tr,te) in enumerate(tenFold):\n",
    "    x_tr = x_train_data[tr]\n",
    "    out_tr = response_train_data[tr]\n",
    "    x_te = x_train_data[te]\n",
    "    out_te = response_train_data[te]\n",
    "# construct new classifier each time\n",
    "model = RandomForestClassifier()\n",
    "model.fit(x_tr, out_tr)\n",
    "out_pred = model.predict(x_te)\n",
    "correct, total = (out_te == out_pred).sum(), len(out_te)\n",
    "# increment accuracy values with each iteration\n",
    "cCorrect += correct\n",
    "cTotal += total\n",
    "print '10-fold accuracy: %f' % (cCorrect * 1.0 / cTotal)\n",
    "print \"\\n\""
   ]
  },
  {
   "cell_type": "code",
   "execution_count": 697,
   "metadata": {
    "collapsed": false
   },
   "outputs": [
    {
     "data": {
      "text/plain": [
       "RandomForestClassifier(bootstrap=True, class_weight=None, criterion='gini',\n",
       "            max_depth=None, max_features='auto', max_leaf_nodes=None,\n",
       "            min_samples_leaf=1, min_samples_split=2,\n",
       "            min_weight_fraction_leaf=0.0, n_estimators=10, n_jobs=1,\n",
       "            oob_score=False, random_state=None, verbose=0,\n",
       "            warm_start=False)"
      ]
     },
     "execution_count": 697,
     "metadata": {},
     "output_type": "execute_result"
    }
   ],
   "source": [
    "model = RandomForestClassifier()\n",
    "model.fit(x_train_data, response_train_data)"
   ]
  },
  {
   "cell_type": "code",
   "execution_count": 698,
   "metadata": {
    "collapsed": false,
    "scrolled": true
   },
   "outputs": [
    {
     "name": "stdout",
     "output_type": "stream",
     "text": [
      "Survived         0.715619\n",
      "Gender           0.163053\n",
      "Pclass           0.066853\n",
      "Fare_discrete    0.025294\n",
      "Age_discrete     0.016271\n",
      "SibSp            0.008287\n",
      "Parch            0.004622\n",
      "dtype: float64\n",
      "\n",
      "\n"
     ]
    }
   ],
   "source": [
    "# use pandas to iterate through feature combinations and return the best one\n",
    "fRank = pd.Series(model.feature_importances_, index=train_data.columns.values[1:]).order(ascending=False)\n",
    "print fRank\n",
    "print \"\\n\""
   ]
  },
  {
   "cell_type": "code",
   "execution_count": 699,
   "metadata": {
    "collapsed": false
   },
   "outputs": [],
   "source": [
    "# tuning attributes we are interested in testing\n",
    "options = {\n",
    "\"n_estimators\": [100],\n",
    "\"criterion\": ['gini', 'entropy'],\n",
    "'max_features': [1.0, .50, 'sqrt'],\n",
    "'max_depth': [3,4,5,6,7,8, None],\n",
    "'min_samples_split': [1,2],\n",
    "'min_samples_leaf': [1,2]\n",
    "    }"
   ]
  },
  {
   "cell_type": "code",
   "execution_count": null,
   "metadata": {
    "collapsed": false
   },
   "outputs": [],
   "source": [
    "model = RandomForestClassifier()\n",
    "tuning = GridSearchCV(model, options, cv=12, verbose=0)\n",
    "tuning.fit(x_train_data, response_train_data)\n"
   ]
  },
  {
   "cell_type": "code",
   "execution_count": null,
   "metadata": {
    "collapsed": true
   },
   "outputs": [],
   "source": [
    "print tuning.best_score_\n",
    "print tuning.best_params_"
   ]
  },
  {
   "cell_type": "code",
   "execution_count": null,
   "metadata": {
    "collapsed": false
   },
   "outputs": [],
   "source": [
    "# fit the forest using best tuning attributes\n",
    "forest = RandomForestClassifier(n_estimators = 100, criterion='entropy', max_features='sqrt', \\\n",
    "max_depth=6, min_samples_leaf = 1, min_samples_split = 2)\n",
    "forest = forest.fit(train_dataValues[0::,1::],train_dataValues[0::,0])"
   ]
  },
  {
   "cell_type": "code",
   "execution_count": null,
   "metadata": {
    "collapsed": false
   },
   "outputs": [],
   "source": [
    "# predict the test data\n",
    "predictions = forest.predict(test_dataValues).astype(int)"
   ]
  },
  {
   "cell_type": "code",
   "execution_count": null,
   "metadata": {
    "collapsed": true
   },
   "outputs": [],
   "source": [
    "output_file = open(\"RFC.csv\", \"wb\")\n",
    "output_file_object = csv.writer(output_file)\n",
    "output_file_object.writerow([\"PassengerId\", \"Survived\"])\n",
    "output_file_object.writerows(zip(test_data[\"PassengerId\"], output))\n",
    "output_file.close()"
   ]
  },
  {
   "cell_type": "code",
   "execution_count": null,
   "metadata": {
    "collapsed": false
   },
   "outputs": [],
   "source": [
    "import matplotlib.pyplot as plt\n",
    "from sklearn.metrics import roc_curve, auc\n",
    "from sklearn.cross_validation import train_test_split\n",
    " \n",
    "# shuffle and split training and test sets\n",
    "X_train_data, X_test_data, y_train_data, y_test_data = train_test_split(X, y, test_size=.25)\n",
    "forest.fit(X_train_data, y_train_data)"
   ]
  },
  {
   "cell_type": "code",
   "execution_count": null,
   "metadata": {
    "collapsed": false
   },
   "outputs": [],
   "source": [
    " # Determine the false positive and true positive rates\n",
    "fpr, tpr,_ = roc_curve(y_test_data, forest.predict(X_test_data)[0::,0])"
   ]
  },
  {
   "cell_type": "code",
   "execution_count": null,
   "metadata": {
    "collapsed": false
   },
   "outputs": [],
   "source": [
    "# Calculate the AUC\n",
    "roc_auc = auc(fpr, tpr)\n",
    "print 'ROC AUC: %0.2f' % roc_auc"
   ]
  },
  {
   "cell_type": "code",
   "execution_count": null,
   "metadata": {
    "collapsed": false
   },
   "outputs": [],
   "source": [
    "# Plot of a ROC curve for a specific class\n",
    "plt.figure()\n",
    "plt.plot(fpr, tpr, label='ROC curve (area = %0.2f)' % roc_auc)\n",
    "plt.plot([0, 1], [0, 1], 'k--')\n",
    "plt.xlim([0.0, 1.0])\n",
    "plt.ylim([0.0, 1.05])\n",
    "plt.xlabel('False Positive Rate')\n",
    "plt.ylabel('True Positive Rate')\n",
    "plt.title('ROC Curve')\n",
    "plt.legend(loc=\"lower right\")\n",
    "plt.savefig('ROC.png')"
   ]
  },
  {
   "cell_type": "code",
   "execution_count": null,
   "metadata": {
    "collapsed": true
   },
   "outputs": [],
   "source": []
  }
 ],
 "metadata": {
  "kernelspec": {
   "display_name": "Python 2",
   "language": "python",
   "name": "python2"
  },
  "language_info": {
   "codemirror_mode": {
    "name": "ipython",
    "version": 2
   },
   "file_extension": ".py",
   "mimetype": "text/x-python",
   "name": "python",
   "nbconvert_exporter": "python",
   "pygments_lexer": "ipython2",
   "version": "2.7.10"
  }
 },
 "nbformat": 4,
 "nbformat_minor": 0
}
